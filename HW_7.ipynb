{
 "cells": [
  {
   "cell_type": "markdown",
   "metadata": {
    "id": "T7ZzWaMVe71E"
   },
   "source": [
    "# Домашнее задание \"Теория вероятности. Дискретные Случайные Величины\"."
   ]
  },
  {
   "cell_type": "markdown",
   "metadata": {
    "id": "lanA1DNve73x"
   },
   "source": [
    "## Уровень 0:"
   ]
  },
  {
   "cell_type": "markdown",
   "metadata": {
    "id": "trLO6c0pfXRA"
   },
   "source": [
    "### Задание 1:"
   ]
  },
  {
   "cell_type": "markdown",
   "metadata": {
    "id": "1Fj_TgHpfXTP"
   },
   "source": [
    "Монетку подбрасывают 15 раз, найдите вероятность выпадения простого числа орлов."
   ]
  },
  {
   "cell_type": "code",
   "execution_count": 49,
   "metadata": {},
   "outputs": [],
   "source": [
    "import matplotlib.pyplot as plt\n",
    "import numpy as np\n",
    "import random\n",
    "import seaborn\n",
    "\n",
    "from numpy.random import choice\n",
    "from scipy.stats import *\n",
    "\n",
    "%matplotlib inline"
   ]
  },
  {
   "cell_type": "code",
   "execution_count": 50,
   "metadata": {},
   "outputs": [
    {
     "name": "stdout",
     "output_type": "stream",
     "text": [
      "Orel = 11 Reshka = 4\n",
      "P(орел) = 0.7333333333333333\n"
     ]
    }
   ],
   "source": [
    "\n",
    "orel = 0\n",
    "reshka = 0\n",
    "for i in range(0, 15):\n",
    "    if random.randint(0, 1) == 1:\n",
    "        orel += 1\n",
    "    else:\n",
    "        reshka += 1\n",
    "print('Orel =', orel, 'Reshka =', reshka)\n",
    "print('P(орел) =', orel/15)"
   ]
  },
  {
   "cell_type": "code",
   "execution_count": 51,
   "metadata": {},
   "outputs": [
    {
     "name": "stdout",
     "output_type": "stream",
     "text": [
      "орел - 4  решка-11\n"
     ]
    }
   ],
   "source": [
    "o,r = 0,0\n",
    "moneta = ['орел','решка']\n",
    "for _ in range(15):\n",
    "    res = random.choice(moneta )\n",
    "    if res == 'орел': o += 1    \n",
    "    else: r += 1     \n",
    "print( 'орел - {}  решка-{}'.format(o,r))"
   ]
  },
  {
   "cell_type": "markdown",
   "metadata": {},
   "source": [
    "### Задание 2:"
   ]
  },
  {
   "cell_type": "markdown",
   "metadata": {
    "id": "dc5gqI8gfXXk"
   },
   "source": [
    "\n",
    "Создайте свою дискретную случайную величину с не менее, чем 10 значениями. Просемплируйте 1000 случайных значений, постройте гистограмму плотности распределения по выборке, посчитайте среднее, дисперсию и медиану."
   ]
  },
  {
   "cell_type": "code",
   "execution_count": 113,
   "metadata": {},
   "outputs": [
    {
     "data": {
      "text/plain": [
       "array([9.9, 4.4, 1.1, 4.4, 0. , 1.1, 2.2, 6.6, 5.5, 3.3, 6.6, 9.9, 1.1,\n",
       "       6.6, 6.6, 8.8, 3.3, 5.5, 2.2, 5.5, 4.4, 2.2, 2.2, 8.8, 4.4, 3.3,\n",
       "       1.1, 3.3, 0. , 7.7, 9.9, 3.3, 0. , 1.1, 0. , 2.2, 7.7, 5.5, 1.1,\n",
       "       9.9, 2.2, 4.4, 7.7, 4.4, 0. , 6.6, 4.4, 5.5, 5.5, 5.5, 7.7, 1.1,\n",
       "       1.1, 7.7, 2.2, 9.9, 2.2, 8.8, 5.5, 7.7, 0. , 3.3, 0. , 6.6, 3.3,\n",
       "       4.4, 6.6, 5.5, 5.5, 5.5, 7.7, 5.5, 3.3, 6.6, 7.7, 5.5, 2.2, 3.3,\n",
       "       2.2, 3.3, 5.5, 3.3, 0. , 2.2, 9.9, 1.1, 2.2, 5.5, 6.6, 6.6, 9.9,\n",
       "       2.2, 7.7, 3.3, 5.5, 8.8, 2.2, 1.1, 7.7, 5.5, 8.8, 9.9, 1.1, 7.7,\n",
       "       2.2, 8.8, 1.1, 7.7, 0. , 4.4, 7.7, 8.8, 3.3, 6.6, 4.4, 3.3, 9.9,\n",
       "       9.9, 7.7, 5.5, 5.5, 5.5, 7.7, 6.6, 4.4, 8.8, 9.9, 7.7, 8.8, 1.1,\n",
       "       8.8, 6.6, 1.1, 2.2, 0. , 5.5, 2.2, 3.3, 5.5, 3.3, 6.6, 6.6, 7.7,\n",
       "       5.5, 2.2, 4.4, 4.4, 1.1, 1.1, 5.5, 5.5, 8.8, 6.6, 1.1, 1.1, 4.4,\n",
       "       2.2, 2.2, 2.2, 2.2, 8.8, 0. , 8.8, 8.8, 0. , 1.1, 1.1, 3.3, 5.5,\n",
       "       8.8, 8.8, 0. , 2.2, 9.9, 4.4, 1.1, 2.2, 4.4, 0. , 5.5, 0. , 7.7,\n",
       "       2.2, 3.3, 7.7, 5.5, 9.9, 1.1, 6.6, 2.2, 2.2, 3.3, 2.2, 1.1, 5.5,\n",
       "       1.1, 1.1, 1.1, 4.4, 0. , 1.1, 8.8, 6.6, 1.1, 6.6, 6.6, 6.6, 2.2,\n",
       "       3.3, 1.1, 3.3, 3.3, 6.6, 1.1, 6.6, 8.8, 6.6, 1.1, 2.2, 8.8, 6.6,\n",
       "       7.7, 2.2, 2.2, 0. , 2.2, 7.7, 7.7, 9.9, 6.6, 1.1, 9.9, 9.9, 6.6,\n",
       "       6.6, 9.9, 1.1, 5.5, 2.2, 9.9, 3.3, 2.2, 3.3, 2.2, 8.8, 1.1, 9.9,\n",
       "       4.4, 0. , 4.4, 7.7, 6.6, 1.1, 5.5, 4.4, 9.9, 2.2, 9.9, 2.2, 9.9,\n",
       "       9.9, 1.1, 2.2, 0. , 4.4, 1.1, 2.2, 1.1, 2.2, 5.5, 1.1, 5.5, 1.1,\n",
       "       5.5, 3.3, 8.8, 7.7, 7.7, 1.1, 0. , 0. , 1.1, 6.6, 1.1, 4.4, 4.4,\n",
       "       8.8, 3.3, 8.8, 2.2, 2.2, 1.1, 0. , 9.9, 7.7, 6.6, 8.8, 5.5, 3.3,\n",
       "       9.9, 1.1, 3.3, 6.6, 3.3, 0. , 8.8, 0. , 2.2, 1.1, 7.7, 1.1, 3.3,\n",
       "       6.6, 7.7, 7.7, 8.8, 4.4, 3.3, 8.8, 1.1, 4.4, 6.6, 0. , 7.7, 0. ,\n",
       "       5.5, 7.7, 6.6, 7.7, 5.5, 9.9, 6.6, 2.2, 2.2, 0. , 8.8, 7.7, 7.7,\n",
       "       9.9, 7.7, 3.3, 2.2, 4.4, 8.8, 4.4, 4.4, 1.1, 7.7, 0. , 3.3, 5.5,\n",
       "       7.7, 6.6, 4.4, 9.9, 8.8, 8.8, 7.7, 6.6, 2.2, 4.4, 2.2, 7.7, 0. ,\n",
       "       5.5, 5.5, 7.7, 4.4, 9.9, 9.9, 0. , 8.8, 0. , 4.4, 4.4, 6.6, 0. ,\n",
       "       0. , 8.8, 0. , 3.3, 7.7, 5.5, 6.6, 1.1, 9.9, 1.1, 8.8, 0. , 2.2,\n",
       "       7.7, 3.3, 6.6, 0. , 0. , 7.7, 0. , 4.4, 0. , 1.1, 1.1, 2.2, 8.8,\n",
       "       1.1, 0. , 3.3, 8.8, 2.2, 0. , 6.6, 8.8, 0. , 9.9, 7.7, 8.8, 0. ,\n",
       "       6.6, 0. , 2.2, 5.5, 5.5, 6.6, 4.4, 2.2, 8.8, 9.9, 4.4, 3.3, 8.8,\n",
       "       3.3, 5.5, 2.2, 4.4, 7.7, 9.9, 2.2, 6.6, 0. , 7.7, 8.8, 6.6, 9.9,\n",
       "       8.8, 6.6, 8.8, 8.8, 6.6, 6.6, 3.3, 6.6, 8.8, 0. , 5.5, 6.6, 8.8,\n",
       "       1.1, 4.4, 1.1, 6.6, 4.4, 8.8, 5.5, 7.7, 6.6, 8.8, 6.6, 1.1, 2.2,\n",
       "       9.9, 3.3, 7.7, 6.6, 2.2, 4.4, 2.2, 3.3, 3.3, 4.4, 9.9, 8.8, 0. ,\n",
       "       9.9, 1.1, 4.4, 4.4, 6.6, 5.5, 8.8, 5.5, 5.5, 1.1, 9.9, 0. , 1.1,\n",
       "       5.5, 4.4, 0. , 1.1, 2.2, 2.2, 6.6, 8.8, 1.1, 0. , 0. , 1.1, 2.2,\n",
       "       1.1, 1.1, 1.1, 8.8, 9.9, 3.3, 2.2, 0. , 1.1, 8.8, 8.8, 1.1, 0. ,\n",
       "       8.8, 0. , 5.5, 2.2, 1.1, 3.3, 8.8, 8.8, 5.5, 2.2, 1.1, 0. , 7.7,\n",
       "       1.1, 7.7, 8.8, 4.4, 8.8, 0. , 6.6, 5.5, 4.4, 2.2, 2.2, 6.6, 1.1,\n",
       "       6.6, 8.8, 5.5, 9.9, 1.1, 0. , 7.7, 0. , 1.1, 1.1, 8.8, 7.7, 0. ,\n",
       "       8.8, 3.3, 8.8, 1.1, 6.6, 9.9, 3.3, 0. , 8.8, 7.7, 5.5, 3.3, 5.5,\n",
       "       4.4, 0. , 6.6, 0. , 4.4, 6.6, 5.5, 2.2, 6.6, 7.7, 0. , 8.8, 7.7,\n",
       "       9.9, 5.5, 1.1, 8.8, 3.3, 7.7, 8.8, 7.7, 0. , 3.3, 1.1, 7.7, 3.3,\n",
       "       0. , 9.9, 0. , 7.7, 0. , 4.4, 4.4, 5.5, 4.4, 3.3, 3.3, 9.9, 1.1,\n",
       "       2.2, 4.4, 1.1, 9.9, 4.4, 4.4, 0. , 0. , 1.1, 3.3, 9.9, 2.2, 0. ,\n",
       "       6.6, 3.3, 5.5, 1.1, 3.3, 9.9, 8.8, 5.5, 4.4, 1.1, 9.9, 5.5, 6.6,\n",
       "       3.3, 7.7, 5.5, 5.5, 9.9, 4.4, 0. , 6.6, 5.5, 5.5, 4.4, 5.5, 6.6,\n",
       "       7.7, 8.8, 5.5, 0. , 5.5, 3.3, 6.6, 4.4, 0. , 0. , 9.9, 0. , 0. ,\n",
       "       6.6, 5.5, 2.2, 6.6, 8.8, 5.5, 0. , 8.8, 4.4, 6.6, 8.8, 2.2, 7.7,\n",
       "       4.4, 1.1, 5.5, 1.1, 5.5, 2.2, 3.3, 7.7, 2.2, 0. , 6.6, 9.9, 3.3,\n",
       "       4.4, 0. , 8.8, 2.2, 1.1, 7.7, 3.3, 7.7, 2.2, 7.7, 2.2, 9.9, 8.8,\n",
       "       8.8, 5.5, 6.6, 1.1, 6.6, 6.6, 2.2, 6.6, 5.5, 0. , 6.6, 3.3, 4.4,\n",
       "       3.3, 0. , 2.2, 0. , 1.1, 1.1, 2.2, 3.3, 7.7, 2.2, 2.2, 6.6, 7.7,\n",
       "       6.6, 0. , 5.5, 4.4, 3.3, 3.3, 9.9, 2.2, 8.8, 3.3, 5.5, 7.7, 1.1,\n",
       "       5.5, 4.4, 0. , 3.3, 6.6, 6.6, 5.5, 6.6, 1.1, 7.7, 9.9, 7.7, 5.5,\n",
       "       0. , 2.2, 2.2, 5.5, 5.5, 9.9, 8.8, 7.7, 0. , 0. , 4.4, 5.5, 7.7,\n",
       "       2.2, 6.6, 4.4, 4.4, 5.5, 4.4, 7.7, 7.7, 6.6, 0. , 8.8, 8.8, 3.3,\n",
       "       9.9, 1.1, 2.2, 6.6, 1.1, 9.9, 4.4, 6.6, 9.9, 7.7, 3.3, 5.5, 4.4,\n",
       "       7.7, 4.4, 8.8, 6.6, 7.7, 2.2, 9.9, 2.2, 4.4, 7.7, 1.1, 6.6, 2.2,\n",
       "       0. , 5.5, 5.5, 0. , 9.9, 1.1, 9.9, 2.2, 4.4, 4.4, 5.5, 6.6, 3.3,\n",
       "       5.5, 4.4, 5.5, 2.2, 1.1, 3.3, 0. , 8.8, 8.8, 4.4, 3.3, 4.4, 3.3,\n",
       "       0. , 3.3, 4.4, 8.8, 3.3, 8.8, 2.2, 4.4, 0. , 8.8, 2.2, 9.9, 1.1,\n",
       "       8.8, 7.7, 2.2, 9.9, 6.6, 2.2, 2.2, 1.1, 9.9, 5.5, 5.5, 7.7, 5.5,\n",
       "       5.5, 0. , 7.7, 5.5, 8.8, 3.3, 8.8, 9.9, 4.4, 1.1, 5.5, 8.8, 0. ,\n",
       "       0. , 2.2, 5.5, 2.2, 9.9, 4.4, 0. , 0. , 7.7, 3.3, 0. , 3.3, 0. ,\n",
       "       7.7, 6.6, 2.2, 8.8, 6.6, 1.1, 0. , 7.7, 5.5, 4.4, 2.2, 6.6, 6.6,\n",
       "       5.5, 8.8, 2.2, 0. , 1.1, 0. , 2.2, 3.3, 0. , 6.6, 2.2, 1.1, 6.6,\n",
       "       2.2, 4.4, 8.8, 4.4, 0. , 4.4, 5.5, 0. , 6.6, 0. , 7.7, 8.8, 5.5,\n",
       "       8.8, 9.9, 2.2, 3.3, 7.7, 5.5, 3.3, 5.5, 1.1, 8.8, 4.4, 1.1, 0. ,\n",
       "       3.3, 7.7, 2.2, 2.2, 3.3, 0. , 5.5, 8.8, 9.9, 4.4, 1.1, 6.6, 1.1,\n",
       "       5.5, 9.9, 3.3, 3.3, 7.7, 2.2, 5.5, 2.2, 9.9, 1.1, 4.4, 1.1, 7.7,\n",
       "       4.4, 9.9, 5.5, 8.8, 7.7, 5.5, 4.4, 3.3, 0. , 3.3, 6.6, 7.7, 8.8,\n",
       "       0. , 1.1, 7.7, 6.6, 1.1, 0. , 1.1, 4.4, 3.3, 5.5, 8.8, 5.5, 0. ,\n",
       "       7.7, 9.9, 9.9, 3.3, 3.3, 1.1, 1.1, 6.6, 6.6, 7.7, 7.7, 5.5])"
      ]
     },
     "execution_count": 113,
     "metadata": {},
     "output_type": "execute_result"
    }
   ],
   "source": [
    "elements = [1.1, 2.2, 3.3, 4.4, 5.5, 6.6, 7.7, 8.8, 9.9, 0.0] \n",
    "# probabilites = [0.2, 0.5, 0.3] \n",
    "d = np.random.choice(elements, 1000)# p=probabilites) \n",
    "d"
   ]
  },
  {
   "cell_type": "code",
   "execution_count": 120,
   "metadata": {},
   "outputs": [],
   "source": [
    "c = choice(elements, size=1000)\n"
   ]
  },
  {
   "cell_type": "code",
   "execution_count": 168,
   "metadata": {},
   "outputs": [
    {
     "data": {
      "text/plain": [
       "(array(0.4), array(0.24))"
      ]
     },
     "execution_count": 168,
     "metadata": {},
     "output_type": "execute_result"
    }
   ],
   "source": [
    "p=0.4\n",
    "rv = bernoulli(p)\n",
    "rv.stats()"
   ]
  },
  {
   "cell_type": "code",
   "execution_count": 169,
   "metadata": {},
   "outputs": [],
   "source": [
    "cdf = bernoulli.cdf(d, p)\n",
    "# cdf"
   ]
  },
  {
   "cell_type": "code",
   "execution_count": 170,
   "metadata": {},
   "outputs": [
    {
     "data": {
      "image/png": "[encoded data removed]",
      "text/plain": [
       "<Figure size 432x288 with 1 Axes>"
      ]
     },
     "metadata": {
      "needs_background": "light"
     },
     "output_type": "display_data"
    }
   ],
   "source": [
    "plt.hist(cdf, color='Green')\n",
    "plt.show()"
   ]
  },
  {
   "cell_type": "code",
   "execution_count": 171,
   "metadata": {},
   "outputs": [
    {
     "data": {
      "text/plain": [
       "(0.9548, 0.12663711936079403, 1.0)"
      ]
     },
     "execution_count": 171,
     "metadata": {},
     "output_type": "execute_result"
    }
   ],
   "source": [
    "np.mean(cdf), np.std(cdf), np.median(cdf)"
   ]
  },
  {
   "cell_type": "code",
   "execution_count": 172,
   "metadata": {},
   "outputs": [
    {
     "data": {
      "image/png": "[encoded data removed]",
      "text/plain": [
       "<Figure size 432x288 with 1 Axes>"
      ]
     },
     "metadata": {
      "needs_background": "light"
     },
     "output_type": "display_data"
    }
   ],
   "source": [
    "cdf_ = bernoulli.cdf(c, p)\n",
    "plt.hist(cdf_, color='Red')\n",
    "plt.show()"
   ]
  },
  {
   "cell_type": "code",
   "execution_count": 173,
   "metadata": {},
   "outputs": [
    {
     "data": {
      "text/plain": [
       "(0.9552, 0.12614658140433296, 1.0)"
      ]
     },
     "execution_count": 173,
     "metadata": {},
     "output_type": "execute_result"
    }
   ],
   "source": [
    "np.mean(cdf_), np.std(cdf_), np.median(cdf_)"
   ]
  },
  {
   "cell_type": "code",
   "execution_count": null,
   "metadata": {},
   "outputs": [],
   "source": []
  },
  {
   "cell_type": "code",
   "execution_count": 174,
   "metadata": {},
   "outputs": [
    {
     "data": {
      "image/png": "[encoded data removed]",
      "text/plain": [
       "<Figure size 432x288 with 1 Axes>"
      ]
     },
     "metadata": {
      "needs_background": "light"
     },
     "output_type": "display_data"
    }
   ],
   "source": [
    "a = np.random.randint(0, 330, 1000)\n",
    "p=0.5\n",
    "rv = bernoulli(p)\n",
    "cdf_1 = bernoulli.cdf(a, p)\n",
    "plt.hist(cdf_1, color='Red')\n",
    "plt.show()"
   ]
  },
  {
   "cell_type": "code",
   "execution_count": 175,
   "metadata": {},
   "outputs": [
    {
     "data": {
      "text/plain": [
       "(0.9985, 0.027345017827750638, 1.0)"
      ]
     },
     "execution_count": 175,
     "metadata": {},
     "output_type": "execute_result"
    }
   ],
   "source": [
    "np.mean(cdf_1), np.std(cdf_1), np.median(cdf_1)"
   ]
  },
  {
   "cell_type": "code",
   "execution_count": null,
   "metadata": {},
   "outputs": [],
   "source": []
  },
  {
   "cell_type": "code",
   "execution_count": null,
   "metadata": {},
   "outputs": [],
   "source": []
  },
  {
   "cell_type": "markdown",
   "metadata": {
    "id": "_6YnMFxzfS86"
   },
   "source": [
    "## Уровень 1:"
   ]
  },
  {
   "cell_type": "markdown",
   "metadata": {
    "id": "kCHPejMofn6b"
   },
   "source": [
    "- Задание 3:\n"
   ]
  },
  {
   "cell_type": "markdown",
   "metadata": {
    "id": "HfOQo_qkfmYC"
   },
   "source": [
    "Пусть брошены 3 уравновешенные монеты.\n",
    "\n",
    "Рассмотрим 3 события:\n",
    "\n",
    "A1 - монеты 1 и 2 упали одной и той же стороной;\n",
    "\n",
    "A2 - монеты 2 и 3 упали одной и той же стороной;\n",
    "\n",
    "A3 - монеты 1 и 3 упали одной и той же стороной.\n",
    "\n",
    "Покажите, почему эти 3 события (A1, A2, A3) являются попарно независимыми, но не являются независимыми в совокупности."
   ]
  },
  {
   "cell_type": "markdown",
   "metadata": {
    "id": "S29TzpYSfmaC"
   },
   "source": [
    "- Задание 4 (формула полной вероятности):\n"
   ]
  },
  {
   "cell_type": "markdown",
   "metadata": {
    "id": "tDprfzp-fmcP"
   },
   "source": [
    "В магазин привезли устройства с 3-х разных предприятий. \n",
    "\n",
    "Соотношение устройств следующее: 20% - продукция первого предприятия, 30% - продукция второго предприятия, 50% - продукция третьего предприятия; далее, 10% продукции первого предприятия высшего сорта, на втором предприятии - 5% и на третьем - 20% продукции высшего сорта. \n",
    "\n",
    "Найти вероятность того, что случайно купленная новая продукция окажется высшего сорта."
   ]
  }
 ],
 "metadata": {
  "colab": {
   "name": "HW_7",
   "provenance": []
  },
  "kernelspec": {
   "display_name": "Python 3",
   "language": "python",
   "name": "python3"
  },
  "language_info": {
   "codemirror_mode": {
    "name": "ipython",
    "version": 3
   },
   "file_extension": ".py",
   "mimetype": "text/x-python",
   "name": "python",
   "nbconvert_exporter": "python",
   "pygments_lexer": "ipython3",
   "version": "3.7.6"
  }
 },
 "nbformat": 4,
 "nbformat_minor": 1
}
